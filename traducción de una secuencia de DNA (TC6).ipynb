{
 "cells": [
  {
   "cell_type": "code",
   "execution_count": 11,
   "id": "19a038fd",
   "metadata": {},
   "outputs": [],
   "source": [
    "##nombre: william calderon\n",
    "#TC6: Realice una funcion en python que realice la traducción de una secuencia de DNA a una secuencia de Amino Ácidos. \n",
    "\n"
   ]
  },
  {
   "cell_type": "code",
   "execution_count": null,
   "id": "c81ac10c",
   "metadata": {},
   "outputs": [],
   "source": [
    "##con esta esta función pasamos como argumento una secuencia de ADN en forma de cadena de texto y obtendremos la secuencia de aminoácidos correspondiente.\n",
    "#Cada codón de ADN (secuencia de tres nucleótidos) se traducirá a un aminoácido. \n",
    "#Si se encuentra un codón de terminación (TAA, TAG, o TGA), se traducirá como un asterisco (*) que representa el final de la cadena de aminoácidos."
   ]
  },
  {
   "cell_type": "code",
   "execution_count": 27,
   "id": "e1a7c271",
   "metadata": {},
   "outputs": [],
   "source": [
    "def traducir_dna(secuencia_dna):\n",
    "    codigo_genetico = {\n",
    "        'TTT': 'F', 'TTC': 'F', 'TTA': 'L', 'TTG': 'L',\n",
    "        'TCT': 'S', 'TCC': 'S', 'TCA': 'S', 'TCG': 'S',\n",
    "        'TAT': 'Y', 'TAC': 'Y', 'TAA': '*', 'TAG': '*',\n",
    "        'TGT': 'C', 'TGC': 'C', 'TGA': '*', 'TGG': 'W',\n",
    "        'CTT': 'L', 'CTC': 'L', 'CTA': 'L', 'CTG': 'L',\n",
    "        'CCT': 'P', 'CCC': 'P', 'CCA': 'P', 'CCG': 'P',\n",
    "        'CAT': 'H', 'CAC': 'H', 'CAA': 'Q', 'CAG': 'Q',\n",
    "        'CGT': 'R', 'CGC': 'R', 'CGA': 'R', 'CGG': 'R',\n",
    "        'ATT': 'I', 'ATC': 'I', 'ATA': 'I', 'ATG': 'M',\n",
    "        'ACT': 'T', 'ACC': 'T', 'ACA': 'T', 'ACG': 'T',\n",
    "        'AAT': 'N', 'AAC': 'N', 'AAA': 'K', 'AAG': 'K',\n",
    "        'AGT': 'S', 'AGC': 'S', 'AGA': 'R', 'AGG': 'R',\n",
    "        'GTT': 'V', 'GTC': 'V', 'GTA': 'V', 'GTG': 'V',\n",
    "        'GCT': 'A', 'GCC': 'A', 'GCA': 'A', 'GCG': 'A',\n",
    "        'GAT': 'D', 'GAC': 'D', 'GAA': 'E', 'GAG': 'E',\n",
    "        'GGT': 'G', 'GGC': 'G', 'GGA': 'G', 'GGG': 'G'\n",
    "    }\n",
    "    \n",
    "    secuencia_aminoacidos = \"\"\n",
    "    for i in range(0, len(secuencia_dna), 3):\n",
    "        codon = secuencia_dna[i:i+3]\n",
    "        aminoacido = codigo_genetico.get(codon, '-')\n",
    "        secuencia_aminoacidos += aminoacido\n",
    "    \n",
    "    return secuencia_aminoacidos\n"
   ]
  },
  {
   "cell_type": "code",
   "execution_count": 28,
   "id": "1a476732",
   "metadata": {},
   "outputs": [
    {
     "name": "stdout",
     "output_type": "stream",
     "text": [
      "MVYVEV*R-\n"
     ]
    }
   ],
   "source": [
    "##ejemplo de uso:\n",
    "secuencia_dna = \"ATGGTCTACGTCGAAGTCTGAAGGTC\"\n",
    "secuencia_aminoacidos = traducir_dna(secuencia_dna)\n",
    "print(secuencia_aminoacidos)\n"
   ]
  },
  {
   "cell_type": "code",
   "execution_count": null,
   "id": "365b2e0c",
   "metadata": {},
   "outputs": [],
   "source": []
  }
 ],
 "metadata": {
  "kernelspec": {
   "display_name": "Python 3 (ipykernel)",
   "language": "python",
   "name": "python3"
  },
  "language_info": {
   "codemirror_mode": {
    "name": "ipython",
    "version": 3
   },
   "file_extension": ".py",
   "mimetype": "text/x-python",
   "name": "python",
   "nbconvert_exporter": "python",
   "pygments_lexer": "ipython3",
   "version": "3.9.13"
  }
 },
 "nbformat": 4,
 "nbformat_minor": 5
}
